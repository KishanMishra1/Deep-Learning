{
  "nbformat": 4,
  "nbformat_minor": 0,
  "metadata": {
    "accelerator": "GPU",
    "colab": {
      "name": "l10c04_nlp_optimizing_the_text_generation_model.ipynb",
      "provenance": [],
      "collapsed_sections": [],
      "toc_visible": true
    },
    "kernelspec": {
      "display_name": "Python 3",
      "name": "python3"
    }
  },
  "cells": [
    {
      "cell_type": "markdown",
      "metadata": {
        "id": "punL79CN7Ox6"
      },
      "source": [
        "##### Copyright 2020 The TensorFlow Authors."
      ]
    },
    {
      "cell_type": "code",
      "metadata": {
        "cellView": "form",
        "id": "_ckMIh7O7s6D"
      },
      "source": [
        "#@title Licensed under the Apache License, Version 2.0 (the \"License\");\n",
        "# you may not use this file except in compliance with the License.\n",
        "# You may obtain a copy of the License at\n",
        "#\n",
        "# https://www.apache.org/licenses/LICENSE-2.0\n",
        "#\n",
        "# Unless required by applicable law or agreed to in writing, software\n",
        "# distributed under the License is distributed on an \"AS IS\" BASIS,\n",
        "# WITHOUT WARRANTIES OR CONDITIONS OF ANY KIND, either express or implied.\n",
        "# See the License for the specific language governing permissions and\n",
        "# limitations under the License."
      ],
      "execution_count": null,
      "outputs": []
    },
    {
      "cell_type": "markdown",
      "metadata": {
        "id": "Ph5eir3Pf-3z"
      },
      "source": [
        "# Optimizing the Text Generation Model"
      ]
    },
    {
      "cell_type": "markdown",
      "metadata": {
        "id": "S5Uhzt6vVIB2"
      },
      "source": [
        "<table class=\"tfo-notebook-buttons\" align=\"left\">\n",
        "  <td>\n",
        "    <a target=\"_blank\" href=\"https://colab.research.google.com/github/tensorflow/examples/blob/master/courses/udacity_intro_to_tensorflow_for_deep_learning/l10c04_nlp_optimizing_the_text_generation_model.ipynb\"><img src=\"https://www.tensorflow.org/images/colab_logo_32px.png\" />Run in Google Colab</a>\n",
        "  </td>\n",
        "  <td>\n",
        "    <a target=\"_blank\" href=\"https://github.com/tensorflow/examples/blob/master/courses/udacity_intro_to_tensorflow_for_deep_learning/l10c04_nlp_optimizing_the_text_generation_model.ipynb\"><img src=\"https://www.tensorflow.org/images/GitHub-Mark-32px.png\" />View source on GitHub</a>\n",
        "  </td>\n",
        "</table>"
      ]
    },
    {
      "cell_type": "markdown",
      "metadata": {
        "id": "dCxhW3mtLmfb"
      },
      "source": [
        "You've already done some amazing work with generating new songs, but so far we've seen some issues with repetition and a fair amount of incoherence. By using more data and further tweaking the model, you'll be able to get improved results. We'll once again use the [Kaggle Song Lyrics Dataset](https://www.kaggle.com/mousehead/songlyrics) here."
      ]
    },
    {
      "cell_type": "markdown",
      "metadata": {
        "id": "4aHK2CYygXom"
      },
      "source": [
        "## Import TensorFlow and related functions"
      ]
    },
    {
      "cell_type": "code",
      "metadata": {
        "id": "2LmLTREBf5ng"
      },
      "source": [
        "import tensorflow as tf\n",
        "\n",
        "from tensorflow.keras.preprocessing.text import Tokenizer\n",
        "from tensorflow.keras.preprocessing.sequence import pad_sequences\n",
        "\n",
        "# Other imports for processing data\n",
        "import string\n",
        "import numpy as np\n",
        "import pandas as pd"
      ],
      "execution_count": 1,
      "outputs": []
    },
    {
      "cell_type": "markdown",
      "metadata": {
        "id": "GmLTO_dpgge9"
      },
      "source": [
        "## Get the Dataset\n",
        "\n",
        "As noted above, we'll utilize the [Song Lyrics dataset](https://www.kaggle.com/mousehead/songlyrics) on Kaggle again."
      ]
    },
    {
      "cell_type": "code",
      "metadata": {
        "id": "4Bf5FVHfganK",
        "colab": {
          "base_uri": "https://localhost:8080/"
        },
        "outputId": "c7954aae-396c-40db-9e6a-b2d3f1f70c99"
      },
      "source": [
        "!wget --no-check-certificate \\\n",
        "    https://drive.google.com/uc?id=1LiJFZd41ofrWoBtW-pMYsfz1w8Ny0Bj8 \\\n",
        "    -O /tmp/songdata.csv"
      ],
      "execution_count": 2,
      "outputs": [
        {
          "output_type": "stream",
          "name": "stdout",
          "text": [
            "--2021-09-18 14:08:53--  https://drive.google.com/uc?id=1LiJFZd41ofrWoBtW-pMYsfz1w8Ny0Bj8\n",
            "Resolving drive.google.com (drive.google.com)... 64.233.182.138, 64.233.182.139, 64.233.182.113, ...\n",
            "Connecting to drive.google.com (drive.google.com)|64.233.182.138|:443... connected.\n",
            "HTTP request sent, awaiting response... 302 Moved Temporarily\n",
            "Location: https://doc-04-ak-docs.googleusercontent.com/docs/securesc/ha0ro937gcuc7l7deffksulhg5h7mbp1/e3iqp8p7ilmqel4k1td2ac2a7mc9v19m/1631974125000/11118900490791463723/*/1LiJFZd41ofrWoBtW-pMYsfz1w8Ny0Bj8 [following]\n",
            "Warning: wildcards not supported in HTTP.\n",
            "--2021-09-18 14:08:55--  https://doc-04-ak-docs.googleusercontent.com/docs/securesc/ha0ro937gcuc7l7deffksulhg5h7mbp1/e3iqp8p7ilmqel4k1td2ac2a7mc9v19m/1631974125000/11118900490791463723/*/1LiJFZd41ofrWoBtW-pMYsfz1w8Ny0Bj8\n",
            "Resolving doc-04-ak-docs.googleusercontent.com (doc-04-ak-docs.googleusercontent.com)... 108.177.111.132, 2607:f8b0:4001:c07::84\n",
            "Connecting to doc-04-ak-docs.googleusercontent.com (doc-04-ak-docs.googleusercontent.com)|108.177.111.132|:443... connected.\n",
            "HTTP request sent, awaiting response... 200 OK\n",
            "Length: unspecified [text/csv]\n",
            "Saving to: ‘/tmp/songdata.csv’\n",
            "\n",
            "/tmp/songdata.csv       [   <=>              ]  69.08M   158MB/s    in 0.4s    \n",
            "\n",
            "2021-09-18 14:08:56 (158 MB/s) - ‘/tmp/songdata.csv’ saved [72436445]\n",
            "\n"
          ]
        }
      ]
    },
    {
      "cell_type": "markdown",
      "metadata": {
        "id": "Jz9x-7dWihxx"
      },
      "source": [
        "## 250 Songs\n",
        "\n",
        "Now we've seen a model trained on just a small sample of songs, and how this often leads to repetition as you get further along in trying to generate new text. Let's switch to using the 250 songs instead, and see if our output improves. This will actually be nearly 10K lines of lyrics, which should be sufficient.\n",
        "\n",
        "Note that we won't use the full dataset here as it will take up quite a bit of RAM and processing time, but you're welcome to try doing so on your own later. If interested, you'll likely want to use only some of the more common words for the Tokenizer, which will help shrink processing time and memory needed (or else you'd have an output array hundreds of thousands of words long)."
      ]
    },
    {
      "cell_type": "markdown",
      "metadata": {
        "id": "nWbMN_19jfRT"
      },
      "source": [
        "### Preprocessing"
      ]
    },
    {
      "cell_type": "code",
      "metadata": {
        "id": "LRmPPJegovBe"
      },
      "source": [
        "def tokenize_corpus(corpus, num_words=-1):\n",
        "  # Fit a Tokenizer on the corpus\n",
        "  if num_words > -1:\n",
        "    tokenizer = Tokenizer(num_words=num_words)\n",
        "  else:\n",
        "    tokenizer = Tokenizer()\n",
        "  tokenizer.fit_on_texts(corpus)\n",
        "  return tokenizer\n",
        "\n",
        "def create_lyrics_corpus(dataset, field):\n",
        "  # Remove all other punctuation\n",
        "  dataset[field] = dataset[field].str.replace('[{}]'.format(string.punctuation), '')\n",
        "  # Make it lowercase\n",
        "  dataset[field] = dataset[field].str.lower()\n",
        "  # Make it one long string to split by line\n",
        "  lyrics = dataset[field].str.cat()\n",
        "  corpus = lyrics.split('\\n')\n",
        "  # Remove any trailing whitespace\n",
        "  for l in range(len(corpus)):\n",
        "    corpus[l] = corpus[l].rstrip()\n",
        "  # Remove any empty lines\n",
        "  corpus = [l for l in corpus if l != '']\n",
        "\n",
        "  return corpus"
      ],
      "execution_count": 3,
      "outputs": []
    },
    {
      "cell_type": "code",
      "metadata": {
        "id": "kIGedF3XjHj4",
        "colab": {
          "base_uri": "https://localhost:8080/"
        },
        "outputId": "ea6d2ff1-4cc6-4660-ac95-4974ec6a02d1"
      },
      "source": [
        "def tokenize_corpus(corpus, num_words=-1):\n",
        "  # Fit a Tokenizer on the corpus\n",
        "  if num_words > -1:\n",
        "    tokenizer = Tokenizer(num_words=num_words)\n",
        "  else:\n",
        "    tokenizer = Tokenizer()\n",
        "  tokenizer.fit_on_texts(corpus)\n",
        "  return tokenizer\n",
        "\n",
        "# Read the dataset from csv - this time with 250 songs\n",
        "dataset = pd.read_csv('/tmp/songdata.csv', dtype=str)[:250]\n",
        "# Create the corpus using the 'text' column containing lyrics\n",
        "corpus = create_lyrics_corpus(dataset, 'text')\n",
        "# Tokenize the corpus\n",
        "tokenizer = tokenize_corpus(corpus, num_words=2000)\n",
        "total_words = tokenizer.num_words\n",
        "\n",
        "# There should be a lot more words now\n",
        "print(total_words)"
      ],
      "execution_count": 4,
      "outputs": [
        {
          "output_type": "stream",
          "name": "stdout",
          "text": [
            "2000\n"
          ]
        },
        {
          "output_type": "stream",
          "name": "stderr",
          "text": [
            "/usr/local/lib/python3.7/dist-packages/ipykernel_launcher.py:12: SettingWithCopyWarning: \n",
            "A value is trying to be set on a copy of a slice from a DataFrame.\n",
            "Try using .loc[row_indexer,col_indexer] = value instead\n",
            "\n",
            "See the caveats in the documentation: https://pandas.pydata.org/pandas-docs/stable/user_guide/indexing.html#returning-a-view-versus-a-copy\n",
            "  if sys.path[0] == '':\n"
          ]
        }
      ]
    },
    {
      "cell_type": "markdown",
      "metadata": {
        "id": "quoDmw_FkNBA"
      },
      "source": [
        "### Create Sequences and Labels"
      ]
    },
    {
      "cell_type": "code",
      "metadata": {
        "id": "kkLAf3HmkPSo"
      },
      "source": [
        "sequences = []\n",
        "for line in corpus:\n",
        "\ttoken_list = tokenizer.texts_to_sequences([line])[0]\n",
        "\tfor i in range(1, len(token_list)):\n",
        "\t\tn_gram_sequence = token_list[:i+1]\n",
        "\t\tsequences.append(n_gram_sequence)\n",
        "\n",
        "# Pad sequences for equal input length \n",
        "max_sequence_len = max([len(seq) for seq in sequences])\n",
        "sequences = np.array(pad_sequences(sequences, maxlen=max_sequence_len, padding='pre'))\n",
        "\n",
        "# Split sequences between the \"input\" sequence and \"output\" predicted word\n",
        "input_sequences, labels = sequences[:,:-1], sequences[:,-1]\n",
        "# One-hot encode the labels\n",
        "one_hot_labels = tf.keras.utils.to_categorical(labels, num_classes=total_words)"
      ],
      "execution_count": 5,
      "outputs": []
    },
    {
      "cell_type": "markdown",
      "metadata": {
        "id": "cECbqT-blMk-"
      },
      "source": [
        "### Train a (Better) Text Generation Model\n",
        "\n",
        "With more data, we'll cut off after 100 epochs to avoid keeping you here all day. You'll also want to change your runtime type to GPU if you haven't already (you'll need to re-run the above cells if you change runtimes)."
      ]
    },
    {
      "cell_type": "code",
      "metadata": {
        "id": "7nHOp6uWlP_P",
        "colab": {
          "base_uri": "https://localhost:8080/"
        },
        "outputId": "570e387e-e314-435e-e65e-f679736f2538"
      },
      "source": [
        "from tensorflow.keras.models import Sequential\n",
        "from tensorflow.keras.layers import Embedding, LSTM, Dense, Bidirectional\n",
        "\n",
        "model = Sequential()\n",
        "model.add(Embedding(total_words, 64, input_length=max_sequence_len-1))\n",
        "model.add(Bidirectional(LSTM(20)))\n",
        "model.add(Dense(total_words, activation='softmax'))\n",
        "model.compile(loss='categorical_crossentropy', optimizer='adam', metrics=['accuracy'])\n",
        "history = model.fit(input_sequences, one_hot_labels, epochs=100, verbose=1)"
      ],
      "execution_count": 6,
      "outputs": [
        {
          "output_type": "stream",
          "name": "stdout",
          "text": [
            "Epoch 1/100\n",
            "1480/1480 [==============================] - 27s 13ms/step - loss: 5.9869 - accuracy: 0.0465\n",
            "Epoch 2/100\n",
            "1480/1480 [==============================] - 19s 13ms/step - loss: 5.6740 - accuracy: 0.0508\n",
            "Epoch 3/100\n",
            "1480/1480 [==============================] - 19s 13ms/step - loss: 5.4671 - accuracy: 0.0703\n",
            "Epoch 4/100\n",
            "1480/1480 [==============================] - 19s 13ms/step - loss: 5.3126 - accuracy: 0.0951\n",
            "Epoch 5/100\n",
            "1480/1480 [==============================] - 19s 13ms/step - loss: 5.1637 - accuracy: 0.1141\n",
            "Epoch 6/100\n",
            "1480/1480 [==============================] - 19s 13ms/step - loss: 5.0169 - accuracy: 0.1294\n",
            "Epoch 7/100\n",
            "1480/1480 [==============================] - 19s 13ms/step - loss: 4.8657 - accuracy: 0.1415\n",
            "Epoch 8/100\n",
            "1480/1480 [==============================] - 19s 13ms/step - loss: 4.7134 - accuracy: 0.1577\n",
            "Epoch 9/100\n",
            "1480/1480 [==============================] - 19s 13ms/step - loss: 4.5688 - accuracy: 0.1712\n",
            "Epoch 10/100\n",
            "1480/1480 [==============================] - 19s 13ms/step - loss: 4.4447 - accuracy: 0.1847\n",
            "Epoch 11/100\n",
            "1480/1480 [==============================] - 19s 13ms/step - loss: 4.3343 - accuracy: 0.1963\n",
            "Epoch 12/100\n",
            "1480/1480 [==============================] - 19s 13ms/step - loss: 4.2370 - accuracy: 0.2065\n",
            "Epoch 13/100\n",
            "1480/1480 [==============================] - 19s 13ms/step - loss: 4.1461 - accuracy: 0.2180\n",
            "Epoch 14/100\n",
            "1480/1480 [==============================] - 19s 13ms/step - loss: 4.0630 - accuracy: 0.2295\n",
            "Epoch 15/100\n",
            "1480/1480 [==============================] - 18s 12ms/step - loss: 3.9851 - accuracy: 0.2398\n",
            "Epoch 16/100\n",
            "1480/1480 [==============================] - 19s 13ms/step - loss: 3.9154 - accuracy: 0.2507\n",
            "Epoch 17/100\n",
            "1480/1480 [==============================] - 19s 13ms/step - loss: 3.8614 - accuracy: 0.2577\n",
            "Epoch 18/100\n",
            "1480/1480 [==============================] - 19s 13ms/step - loss: 3.7909 - accuracy: 0.2669\n",
            "Epoch 19/100\n",
            "1480/1480 [==============================] - 19s 13ms/step - loss: 3.7412 - accuracy: 0.2736\n",
            "Epoch 20/100\n",
            "1480/1480 [==============================] - 19s 13ms/step - loss: 3.6859 - accuracy: 0.2806\n",
            "Epoch 21/100\n",
            "1480/1480 [==============================] - 19s 13ms/step - loss: 3.6407 - accuracy: 0.2886\n",
            "Epoch 22/100\n",
            "1480/1480 [==============================] - 19s 13ms/step - loss: 3.5952 - accuracy: 0.2932\n",
            "Epoch 23/100\n",
            "1480/1480 [==============================] - 19s 13ms/step - loss: 3.5581 - accuracy: 0.2998\n",
            "Epoch 24/100\n",
            "1480/1480 [==============================] - 19s 13ms/step - loss: 3.5300 - accuracy: 0.3015\n",
            "Epoch 25/100\n",
            "1480/1480 [==============================] - 19s 13ms/step - loss: 3.4775 - accuracy: 0.3110\n",
            "Epoch 26/100\n",
            "1480/1480 [==============================] - 19s 13ms/step - loss: 3.4463 - accuracy: 0.3165\n",
            "Epoch 27/100\n",
            "1480/1480 [==============================] - 19s 13ms/step - loss: 3.4277 - accuracy: 0.3177\n",
            "Epoch 28/100\n",
            "1480/1480 [==============================] - 19s 13ms/step - loss: 3.3854 - accuracy: 0.3234\n",
            "Epoch 29/100\n",
            "1480/1480 [==============================] - 18s 12ms/step - loss: 3.3672 - accuracy: 0.3264\n",
            "Epoch 30/100\n",
            "1480/1480 [==============================] - 19s 13ms/step - loss: 3.3441 - accuracy: 0.3296\n",
            "Epoch 31/100\n",
            "1480/1480 [==============================] - 19s 13ms/step - loss: 3.3108 - accuracy: 0.3365\n",
            "Epoch 32/100\n",
            "1480/1480 [==============================] - 19s 13ms/step - loss: 3.2841 - accuracy: 0.3415\n",
            "Epoch 33/100\n",
            "1480/1480 [==============================] - 19s 13ms/step - loss: 3.2483 - accuracy: 0.3472\n",
            "Epoch 34/100\n",
            "1480/1480 [==============================] - 19s 13ms/step - loss: 3.2332 - accuracy: 0.3492\n",
            "Epoch 35/100\n",
            "1480/1480 [==============================] - 19s 13ms/step - loss: 3.2295 - accuracy: 0.3462\n",
            "Epoch 36/100\n",
            "1480/1480 [==============================] - 19s 13ms/step - loss: 3.1836 - accuracy: 0.3556\n",
            "Epoch 37/100\n",
            "1480/1480 [==============================] - 19s 13ms/step - loss: 3.1583 - accuracy: 0.3607\n",
            "Epoch 38/100\n",
            "1480/1480 [==============================] - 19s 13ms/step - loss: 3.1424 - accuracy: 0.3620\n",
            "Epoch 39/100\n",
            "1480/1480 [==============================] - 19s 13ms/step - loss: 3.1147 - accuracy: 0.3677\n",
            "Epoch 40/100\n",
            "1480/1480 [==============================] - 19s 13ms/step - loss: 3.1010 - accuracy: 0.3692\n",
            "Epoch 41/100\n",
            "1480/1480 [==============================] - 19s 13ms/step - loss: 3.0854 - accuracy: 0.3711\n",
            "Epoch 42/100\n",
            "1480/1480 [==============================] - 19s 13ms/step - loss: 3.0698 - accuracy: 0.3747\n",
            "Epoch 43/100\n",
            "1480/1480 [==============================] - 19s 13ms/step - loss: 3.0509 - accuracy: 0.3767\n",
            "Epoch 44/100\n",
            "1480/1480 [==============================] - 19s 13ms/step - loss: 3.0581 - accuracy: 0.3753\n",
            "Epoch 45/100\n",
            "1480/1480 [==============================] - 19s 13ms/step - loss: 3.0190 - accuracy: 0.3812\n",
            "Epoch 46/100\n",
            "1480/1480 [==============================] - 19s 13ms/step - loss: 3.0053 - accuracy: 0.3835\n",
            "Epoch 47/100\n",
            "1480/1480 [==============================] - 19s 13ms/step - loss: 2.9780 - accuracy: 0.3904\n",
            "Epoch 48/100\n",
            "1480/1480 [==============================] - 19s 13ms/step - loss: 2.9671 - accuracy: 0.3907\n",
            "Epoch 49/100\n",
            "1480/1480 [==============================] - 19s 13ms/step - loss: 2.9447 - accuracy: 0.3952\n",
            "Epoch 50/100\n",
            "1480/1480 [==============================] - 19s 13ms/step - loss: 2.9544 - accuracy: 0.3929\n",
            "Epoch 51/100\n",
            "1480/1480 [==============================] - 19s 13ms/step - loss: 2.9361 - accuracy: 0.3972\n",
            "Epoch 52/100\n",
            "1480/1480 [==============================] - 19s 13ms/step - loss: 2.9139 - accuracy: 0.3986\n",
            "Epoch 53/100\n",
            "1480/1480 [==============================] - 19s 13ms/step - loss: 2.9119 - accuracy: 0.3994\n",
            "Epoch 54/100\n",
            "1480/1480 [==============================] - 19s 13ms/step - loss: 2.8858 - accuracy: 0.4036\n",
            "Epoch 55/100\n",
            "1480/1480 [==============================] - 19s 13ms/step - loss: 2.8886 - accuracy: 0.4015\n",
            "Epoch 56/100\n",
            "1480/1480 [==============================] - 19s 13ms/step - loss: 2.8667 - accuracy: 0.4072\n",
            "Epoch 57/100\n",
            "1480/1480 [==============================] - 19s 13ms/step - loss: 2.8558 - accuracy: 0.4100\n",
            "Epoch 58/100\n",
            "1480/1480 [==============================] - 19s 13ms/step - loss: 2.8615 - accuracy: 0.4084\n",
            "Epoch 59/100\n",
            "1480/1480 [==============================] - 19s 13ms/step - loss: 2.8470 - accuracy: 0.4100\n",
            "Epoch 60/100\n",
            "1480/1480 [==============================] - 19s 13ms/step - loss: 2.8446 - accuracy: 0.4110\n",
            "Epoch 61/100\n",
            "1480/1480 [==============================] - 19s 13ms/step - loss: 2.8300 - accuracy: 0.4141\n",
            "Epoch 62/100\n",
            "1480/1480 [==============================] - 19s 13ms/step - loss: 2.8278 - accuracy: 0.4142\n",
            "Epoch 63/100\n",
            "1480/1480 [==============================] - 19s 13ms/step - loss: 2.7950 - accuracy: 0.4199\n",
            "Epoch 64/100\n",
            "1480/1480 [==============================] - 19s 13ms/step - loss: 2.7954 - accuracy: 0.4185\n",
            "Epoch 65/100\n",
            "1480/1480 [==============================] - 19s 13ms/step - loss: 2.7749 - accuracy: 0.4216\n",
            "Epoch 66/100\n",
            "1480/1480 [==============================] - 19s 13ms/step - loss: 2.7674 - accuracy: 0.4226\n",
            "Epoch 67/100\n",
            "1480/1480 [==============================] - 19s 13ms/step - loss: 2.7620 - accuracy: 0.4231\n",
            "Epoch 68/100\n",
            "1480/1480 [==============================] - 19s 13ms/step - loss: 2.7348 - accuracy: 0.4300\n",
            "Epoch 69/100\n",
            "1480/1480 [==============================] - 19s 13ms/step - loss: 2.7199 - accuracy: 0.4317\n",
            "Epoch 70/100\n",
            "1480/1480 [==============================] - 19s 13ms/step - loss: 2.7296 - accuracy: 0.4301\n",
            "Epoch 71/100\n",
            "1480/1480 [==============================] - 19s 13ms/step - loss: 2.7195 - accuracy: 0.4317\n",
            "Epoch 72/100\n",
            "1480/1480 [==============================] - 19s 13ms/step - loss: 2.7089 - accuracy: 0.4333\n",
            "Epoch 73/100\n",
            "1480/1480 [==============================] - 19s 13ms/step - loss: 2.6886 - accuracy: 0.4377\n",
            "Epoch 74/100\n",
            "1480/1480 [==============================] - 19s 13ms/step - loss: 2.6729 - accuracy: 0.4400\n",
            "Epoch 75/100\n",
            "1480/1480 [==============================] - 19s 13ms/step - loss: 2.6885 - accuracy: 0.4378\n",
            "Epoch 76/100\n",
            "1480/1480 [==============================] - 19s 13ms/step - loss: 2.6756 - accuracy: 0.4404\n",
            "Epoch 77/100\n",
            "1480/1480 [==============================] - 19s 13ms/step - loss: 2.6702 - accuracy: 0.4392\n",
            "Epoch 78/100\n",
            "1480/1480 [==============================] - 19s 13ms/step - loss: 2.6486 - accuracy: 0.4426\n",
            "Epoch 79/100\n",
            "1480/1480 [==============================] - 19s 13ms/step - loss: 2.6416 - accuracy: 0.4450\n",
            "Epoch 80/100\n",
            "1480/1480 [==============================] - 19s 13ms/step - loss: 2.6283 - accuracy: 0.4476\n",
            "Epoch 81/100\n",
            "1480/1480 [==============================] - 19s 13ms/step - loss: 2.6460 - accuracy: 0.4435\n",
            "Epoch 82/100\n",
            "1480/1480 [==============================] - 19s 13ms/step - loss: 2.6289 - accuracy: 0.4472\n",
            "Epoch 83/100\n",
            "1480/1480 [==============================] - 19s 13ms/step - loss: 2.6216 - accuracy: 0.4471\n",
            "Epoch 84/100\n",
            "1480/1480 [==============================] - 19s 13ms/step - loss: 2.6104 - accuracy: 0.4508\n",
            "Epoch 85/100\n",
            "1480/1480 [==============================] - 19s 13ms/step - loss: 2.6033 - accuracy: 0.4499\n",
            "Epoch 86/100\n",
            "1480/1480 [==============================] - 19s 13ms/step - loss: 2.5908 - accuracy: 0.4526\n",
            "Epoch 87/100\n",
            "1480/1480 [==============================] - 19s 13ms/step - loss: 2.5962 - accuracy: 0.4539\n",
            "Epoch 88/100\n",
            "1480/1480 [==============================] - 19s 13ms/step - loss: 2.5688 - accuracy: 0.4578\n",
            "Epoch 89/100\n",
            "1480/1480 [==============================] - 19s 13ms/step - loss: 2.5561 - accuracy: 0.4596\n",
            "Epoch 90/100\n",
            "1480/1480 [==============================] - 19s 13ms/step - loss: 2.5570 - accuracy: 0.4601\n",
            "Epoch 91/100\n",
            "1480/1480 [==============================] - 19s 13ms/step - loss: 2.5562 - accuracy: 0.4612\n",
            "Epoch 92/100\n",
            "1480/1480 [==============================] - 19s 13ms/step - loss: 2.5447 - accuracy: 0.4615\n",
            "Epoch 93/100\n",
            "1480/1480 [==============================] - 19s 13ms/step - loss: 2.5383 - accuracy: 0.4621\n",
            "Epoch 94/100\n",
            "1480/1480 [==============================] - 19s 13ms/step - loss: 2.5260 - accuracy: 0.4646\n",
            "Epoch 95/100\n",
            "1480/1480 [==============================] - 19s 13ms/step - loss: 2.5356 - accuracy: 0.4612\n",
            "Epoch 96/100\n",
            "1480/1480 [==============================] - 19s 13ms/step - loss: 2.5236 - accuracy: 0.4639\n",
            "Epoch 97/100\n",
            "1480/1480 [==============================] - 19s 13ms/step - loss: 2.5209 - accuracy: 0.4657\n",
            "Epoch 98/100\n",
            "1480/1480 [==============================] - 19s 13ms/step - loss: 2.4943 - accuracy: 0.4705\n",
            "Epoch 99/100\n",
            "1480/1480 [==============================] - 19s 13ms/step - loss: 2.5085 - accuracy: 0.4677\n",
            "Epoch 100/100\n",
            "1480/1480 [==============================] - 19s 13ms/step - loss: 2.4969 - accuracy: 0.4700\n"
          ]
        }
      ]
    },
    {
      "cell_type": "markdown",
      "metadata": {
        "id": "MgvIz20nlQcq"
      },
      "source": [
        "### View the Training Graph"
      ]
    },
    {
      "cell_type": "code",
      "metadata": {
        "id": "rOqmmarvlSLh",
        "colab": {
          "base_uri": "https://localhost:8080/",
          "height": 279
        },
        "outputId": "1503272b-42b4-4cc9-9a5f-73b17c78710b"
      },
      "source": [
        "import matplotlib.pyplot as plt\n",
        "\n",
        "def plot_graphs(history, string):\n",
        "  plt.plot(history.history[string])\n",
        "  plt.xlabel(\"Epochs\")\n",
        "  plt.ylabel(string)\n",
        "  plt.show()\n",
        "\n",
        "plot_graphs(history, 'accuracy')"
      ],
      "execution_count": 7,
      "outputs": [
        {
          "output_type": "display_data",
          "data": {
            "image/png": "[encoded data removed]",
            "text/plain": [
              "<Figure size 432x288 with 1 Axes>"
            ]
          },
          "metadata": {
            "needs_background": "light"
          }
        }
      ]
    },
    {
      "cell_type": "markdown",
      "metadata": {
        "id": "ISLZZGlQlSxh"
      },
      "source": [
        "### Generate better lyrics!\n",
        "\n",
        "This time around, we should be able to get a more interesting output with less repetition."
      ]
    },
    {
      "cell_type": "code",
      "metadata": {
        "id": "P96oVMk3lU7y",
        "colab": {
          "base_uri": "https://localhost:8080/"
        },
        "outputId": "7db559d4-c3ce-4f80-ab0e-668ef0bf08d8"
      },
      "source": [
        "seed_text = \"im feeling chills\"\n",
        "next_words = 100\n",
        "  \n",
        "for _ in range(next_words):\n",
        "\ttoken_list = tokenizer.texts_to_sequences([seed_text])[0]\n",
        "\ttoken_list = pad_sequences([token_list], maxlen=max_sequence_len-1, padding='pre')\n",
        "\tpredicted = np.argmax(model.predict(token_list), axis=-1)\n",
        "\toutput_word = \"\"\n",
        "\tfor word, index in tokenizer.word_index.items():\n",
        "\t\tif index == predicted:\n",
        "\t\t\toutput_word = word\n",
        "\t\t\tbreak\n",
        "\tseed_text += \" \" + output_word\n",
        "print(seed_text)"
      ],
      "execution_count": 8,
      "outputs": [
        {
          "output_type": "stream",
          "name": "stdout",
          "text": [
            "im feeling chills me back again cause im singing out here true rubber street romance leavin again with a girl theres a sweet song heads a nights i could see the houses for the night yeah yeah yeah yeah yeah yeah yeah yeah yeah mr clean chill dance that daylight hurts on the lights go round of gold hey falls saying oh baby ill return gently trembling happening last night i love you see wide game looked bout my bumble bee blowing beggin runner treasure hanging coat saying wed kiss light beauty beats away songs somethings slam of your mind baby meets mind\n"
          ]
        }
      ]
    },
    {
      "cell_type": "markdown",
      "metadata": {
        "id": "upgJKV8_oRU9"
      },
      "source": [
        "### Varying the Possible Outputs\n",
        "\n",
        "In running the above, you may notice that the same seed text will generate similar outputs. This is because the code is currently always choosing the top predicted class as the next word. What if you wanted more variance in the output? \n",
        "\n",
        "Switching from `model.predict_classes` to `model.predict_proba` will get us all of the class probabilities. We can combine this with `np.random.choice` to select a given predicted output based on a probability, thereby giving a bit more randomness to our outputs."
      ]
    },
    {
      "cell_type": "code",
      "metadata": {
        "id": "lZe9gaJeoGVP",
        "colab": {
          "base_uri": "https://localhost:8080/"
        },
        "outputId": "f6cc9597-233d-4d03-f655-2b2f90f462f1"
      },
      "source": [
        "# Test the method with just the first word after the seed text\n",
        "seed_text = \"im feeling chills\"\n",
        "next_words = 100\n",
        "  \n",
        "token_list = tokenizer.texts_to_sequences([seed_text])[0]\n",
        "token_list = pad_sequences([token_list], maxlen=max_sequence_len-1, padding='pre')\n",
        "predicted_probs = model.predict(token_list)[0]\n",
        "predicted = np.random.choice([x for x in range(len(predicted_probs))], \n",
        "                             p=predicted_probs)\n",
        "# Running this cell multiple times should get you some variance in output\n",
        "print(predicted)"
      ],
      "execution_count": 9,
      "outputs": [
        {
          "output_type": "stream",
          "name": "stdout",
          "text": [
            "7\n"
          ]
        }
      ]
    },
    {
      "cell_type": "code",
      "metadata": {
        "id": "ee7WKgRGrJy1",
        "colab": {
          "base_uri": "https://localhost:8080/"
        },
        "outputId": "7e1362bf-29e7-4441-92b2-52d5e4a294cf"
      },
      "source": [
        "# Use this process for the full output generation\n",
        "seed_text = \"im feeling chills\"\n",
        "next_words = 100\n",
        "  \n",
        "for _ in range(next_words):\n",
        "  token_list = tokenizer.texts_to_sequences([seed_text])[0]\n",
        "  token_list = pad_sequences([token_list], maxlen=max_sequence_len-1, padding='pre')\n",
        "  predicted_probs = model.predict(token_list)[0]\n",
        "  predicted = np.random.choice([x for x in range(len(predicted_probs))],\n",
        "                               p=predicted_probs)\n",
        "  output_word = \"\"\n",
        "  for word, index in tokenizer.word_index.items():\n",
        "    if index == predicted:\n",
        "      output_word = word\n",
        "      break\n",
        "  seed_text += \" \" + output_word\n",
        "print(seed_text)"
      ],
      "execution_count": 10,
      "outputs": [
        {
          "output_type": "stream",
          "name": "stdout",
          "text": [
            "im feeling chills me so long i adore you what you lies more because feelin before you cant yeah yeah yeah my mind yeah yeah yeah yeah yeah yeah yeah yeah yeah yeah yeah yeah nothin i can do we belong ahha to ahha you can do instead words of today pass a cloud shes begun runner sleeping late awake sea miss that that man cassandra beauty meets agree ahead dry headyeah lovers everythings warning prolonged street hours made runner three thought helen returning cocoon little best just still just not tight pants then reeling gotten into the run light that we say\n"
          ]
        }
      ]
    }
  ]
}